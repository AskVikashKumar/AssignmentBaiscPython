{
 "cells": [
  {
   "cell_type": "markdown",
   "id": "d63c9d12",
   "metadata": {},
   "source": [
    "Q1. Why are functions advantageous to have in your programs?"
   ]
  },
  {
   "cell_type": "raw",
   "id": "08166af4",
   "metadata": {},
   "source": [
    "Ans. We can say Functions are an alternative method of cutting-and-pasting codes rather than typing redundant copies of the same instruction or operation, which further reduces the future work. \n",
    "Some advantages are:-\n",
    "                    Maximizing code reusability\n",
    "                    Minimizing redundancy\n",
    "                    Procedural decomposition\n",
    "                    Make programs simpler to read and understand"
   ]
  },
  {
   "cell_type": "markdown",
   "id": "481ec5f4",
   "metadata": {},
   "source": [
    "Q2. When does the code in a function run: when it's specified or when it's called?"
   ]
  },
  {
   "cell_type": "raw",
   "id": "92a63df7",
   "metadata": {},
   "source": [
    "A function is a block of code which only runs when it is called. WE can pass data, known as parameters, into a function. A function can return data as a result.For e.g"
   ]
  },
  {
   "cell_type": "raw",
   "id": "5052ccad",
   "metadata": {},
   "source": [
    "# def of function\n",
    "def evenOdd(x):\n",
    "    if (x % 2 == 0):\n",
    "        print(\"even\")\n",
    "    else:\n",
    "        print(\"odd\")\n",
    "#code to call the function\n",
    "evenOdd(2) #even\n",
    "evenOdd(3) # odd         "
   ]
  },
  {
   "cell_type": "markdown",
   "id": "cf37ebc4",
   "metadata": {},
   "source": [
    "Q3. What statement creates a function?"
   ]
  },
  {
   "cell_type": "raw",
   "id": "445660f6",
   "metadata": {},
   "source": [
    "We can create a python function using the def keyword and with set of rules mention below\n",
    "Any args or input parameters should be placed within these parentheses \n",
    "The function first statement can be an optional statement- docstring or the documentation string of the function \n",
    "The code within every function starts with a colon (:) and should be indented (space) \n",
    "The function may have  return  statement if required.\n",
    "# A simple Python function \n",
    "def fun():\n",
    "  print(\"Welcome to GFG\")"
   ]
  },
  {
   "cell_type": "markdown",
   "id": "a6a117b6",
   "metadata": {},
   "source": [
    "Q4. What is the difference between a function and a function call?"
   ]
  },
  {
   "cell_type": "raw",
   "id": "7bd76140",
   "metadata": {},
   "source": [
    "A function call means invoking or calling that function which contain block of code. Unless a function is called there is no use of that function.A function contain  block of codes which produce some result when called for example"
   ]
  },
  {
   "cell_type": "code",
   "execution_count": 5,
   "id": "bf419529",
   "metadata": {},
   "outputs": [
    {
     "data": {
      "text/plain": [
       "'Inside the function'"
      ]
     },
     "execution_count": 5,
     "metadata": {},
     "output_type": "execute_result"
    }
   ],
   "source": [
    "def fu():   # Function      \n",
    "    return \"Inside the function\"\n",
    "\n",
    "fu() # Function call"
   ]
  },
  {
   "cell_type": "markdown",
   "id": "f0b2e203",
   "metadata": {},
   "source": [
    "Q5. How many global scopes are there in a Python program? How many local scopes?"
   ]
  },
  {
   "cell_type": "raw",
   "id": "0d3292b1",
   "metadata": {},
   "source": [
    "There's only one global Python scope per program execution. This scope remains in existence until the program terminates and all its names are forgotten. Similar way one local scope in the python program."
   ]
  },
  {
   "cell_type": "markdown",
   "id": "3c1e4efc",
   "metadata": {},
   "source": [
    "Q6. What happens to variables in a local scope when the function call returns?"
   ]
  },
  {
   "cell_type": "raw",
   "id": "a71fdfee",
   "metadata": {},
   "source": [
    "When the execution of the function terminates (returns), the local variables are destroyed."
   ]
  },
  {
   "cell_type": "markdown",
   "id": "fe9a1967",
   "metadata": {},
   "source": [
    "Q7. What is the concept of a return value? Is it possible to have a return value in an expression?"
   ]
  },
  {
   "cell_type": "raw",
   "id": "a9caada6",
   "metadata": {},
   "source": [
    "A return statement is used to end the execution of the function call and “returns” the result (value of the expression following the return keyword) to the caller. The statements after the return statements are not executed. \n",
    "Yes the return statement is possible  with any expression "
   ]
  },
  {
   "cell_type": "code",
   "execution_count": 6,
   "id": "87988c61",
   "metadata": {},
   "outputs": [],
   "source": [
    "def some_add(a,b):\n",
    "    return a+b+10  ## Returning the expression"
   ]
  },
  {
   "cell_type": "code",
   "execution_count": 7,
   "id": "5a2fef78",
   "metadata": {},
   "outputs": [
    {
     "data": {
      "text/plain": [
       "40"
      ]
     },
     "execution_count": 7,
     "metadata": {},
     "output_type": "execute_result"
    }
   ],
   "source": [
    "some_add(10, 20)"
   ]
  },
  {
   "cell_type": "markdown",
   "id": "19713a8a",
   "metadata": {},
   "source": [
    "Q8. If a function does not have a return statement, what is the return value of a call to that function?"
   ]
  },
  {
   "cell_type": "raw",
   "id": "de24516b",
   "metadata": {},
   "source": [
    "If a function doesn't specify a return statement, function is not returning any values. In this case after function is executed completly it will return a NoneType.For e.g."
   ]
  },
  {
   "cell_type": "code",
   "execution_count": 8,
   "id": "6ce9b2ef",
   "metadata": {},
   "outputs": [
    {
     "data": {
      "text/plain": [
       "NoneType"
      ]
     },
     "execution_count": 8,
     "metadata": {},
     "output_type": "execute_result"
    }
   ],
   "source": [
    "def sample_test():     # Function \n",
    "    a = 10\n",
    "    b = 80\n",
    "    \n",
    "type(sample_test())   # Check Type of Function "
   ]
  },
  {
   "cell_type": "markdown",
   "id": "c18882ef",
   "metadata": {},
   "source": [
    "Q9.How do you make a function variable refer to the global variable?"
   ]
  },
  {
   "cell_type": "raw",
   "id": "4ffc4172",
   "metadata": {},
   "source": [
    "If we want to refer to a global variable in a function, we can use the global keyword to declare which variables are global For e.g."
   ]
  },
  {
   "cell_type": "code",
   "execution_count": 9,
   "id": "63b939c8",
   "metadata": {},
   "outputs": [
    {
     "name": "stdout",
     "output_type": "stream",
     "text": [
      "Value of x inside a function : 20\n",
      "Value of x outside a function : 20\n"
     ]
    }
   ],
   "source": [
    "# Python program to modify a global variable as well as use of it\n",
    "x = 15\n",
    "def change():\n",
    "    # using a global keyword\n",
    "    global x \n",
    "    # increment value of x by 5\n",
    "    x = x + 5 \n",
    "    print(\"Value of x inside a function :\", x)\n",
    "change()\n",
    "print(\"Value of x outside a function :\", x)"
   ]
  },
  {
   "cell_type": "markdown",
   "id": "29f51cf2",
   "metadata": {},
   "source": [
    "Q10. What is the data type of None?"
   ]
  },
  {
   "cell_type": "raw",
   "id": "bb819552",
   "metadata": {},
   "source": [
    "None is used to define a null value. It is not the same as an empty string, False, or a zero. It is a data type of the class NoneType object"
   ]
  },
  {
   "cell_type": "markdown",
   "id": "63540bf7",
   "metadata": {},
   "source": [
    "Q11. What does the sentence import areallyourpetsnamederic do?"
   ]
  },
  {
   "cell_type": "raw",
   "id": "b3cc3157",
   "metadata": {},
   "source": [
    "The statement \"import areallyourpetsnamederic\" will import the module or package areallyourpetsnamederic."
   ]
  },
  {
   "cell_type": "markdown",
   "id": "cc31c588",
   "metadata": {},
   "source": [
    "Q12. If you had a bacon() feature in a spam module, what would you call it after importing spam?"
   ]
  },
  {
   "cell_type": "raw",
   "id": "1deee2fa",
   "metadata": {},
   "source": [
    "After import spam we write the following code  spam.bacon() e.g.\n",
    "import spam\n",
    "spam.bacon()"
   ]
  },
  {
   "cell_type": "markdown",
   "id": "02056396",
   "metadata": {},
   "source": [
    "Q13.What can you do to save a programme from crashing if it encounters an error?"
   ]
  },
  {
   "cell_type": "raw",
   "id": "96612dfe",
   "metadata": {},
   "source": [
    "We have write code in try and except block. Below some sample Code"
   ]
  },
  {
   "cell_type": "code",
   "execution_count": 10,
   "id": "8b578af7",
   "metadata": {},
   "outputs": [],
   "source": [
    "# working of try()\n",
    "def divide(x, y):\n",
    "    try:\n",
    "        # Floor Division : Gives only Fractional Part as Answer\n",
    "        result = x // y\n",
    "        print(\"Yeah ! Your answer is :\", result)\n",
    "    except ZeroDivisionError:\n",
    "        print(\"Sorry ! You are dividing by zero \")"
   ]
  },
  {
   "cell_type": "code",
   "execution_count": 11,
   "id": "00e1ba15",
   "metadata": {},
   "outputs": [
    {
     "name": "stdout",
     "output_type": "stream",
     "text": [
      "Sorry ! You are dividing by zero \n"
     ]
    }
   ],
   "source": [
    "# Take look at parameters and note the working of Program\n",
    "divide(3, 0)"
   ]
  },
  {
   "cell_type": "markdown",
   "id": "5de8a568",
   "metadata": {},
   "source": [
    "Q14. What is the purpose of the try clause? What is the purpose of the except clause?"
   ]
  },
  {
   "cell_type": "raw",
   "id": "e660936a",
   "metadata": {},
   "source": [
    "The try block is used to check some code for errors i.e the code inside the try block will execute when there is no error in the program. Whereas the code inside the except block will execute whenever the program encounters some error in the preceding try block"
   ]
  }
 ],
 "metadata": {
  "kernelspec": {
   "display_name": "Python 3 (ipykernel)",
   "language": "python",
   "name": "python3"
  },
  "language_info": {
   "codemirror_mode": {
    "name": "ipython",
    "version": 3
   },
   "file_extension": ".py",
   "mimetype": "text/x-python",
   "name": "python",
   "nbconvert_exporter": "python",
   "pygments_lexer": "ipython3",
   "version": "3.9.7"
  }
 },
 "nbformat": 4,
 "nbformat_minor": 5
}
