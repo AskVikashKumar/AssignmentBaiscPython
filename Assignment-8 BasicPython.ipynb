{
 "cells": [
  {
   "cell_type": "raw",
   "id": "88c7704e",
   "metadata": {},
   "source": [
    "Q1. Is the Python Standard Library included with PyInputPlus?\n",
    "Ans.\n",
    "No.We have to install it by using this statement pip install PyInputPlus\n",
    "This is  used for taking inputs with additional validation features and will keep asking the user for text until they enter valid input."
   ]
  },
  {
   "cell_type": "raw",
   "id": "99128226",
   "metadata": {},
   "source": [
    "Q2. Why is PyInputPlus commonly imported with import pyinputplus as pypi?\n",
    "Ans.\n",
    "We can import the module with import pyinputplus as pyip so that we can enter a shorter name when calling the module's functions"
   ]
  },
  {
   "cell_type": "raw",
   "id": "4fc96f31",
   "metadata": {},
   "source": [
    "Q3. How do you distinguish between inputInt() and inputFloat()?\n",
    "Ans.\n",
    "inputInt() :- Accepts an integer value. This also takes additional parameters ‘min’, ‘max’, ‘greaterThan’ and ‘lessThan’  for bounds. Returns an int.\n",
    "inputFloat() :- Accepts a floating-point numeric value. Also takes additional ‘min’, ‘max’, ‘greaterThan’ and ‘lessThan’  parameters. Returns a float."
   ]
  },
  {
   "cell_type": "raw",
   "id": "fcfec144",
   "metadata": {},
   "source": [
    "Q4. Using PyInputPlus, how do you ensure that the user enters a whole number between 0 and 99?\n",
    "Ans.\n",
    "PyInputPlus module provides a function called as inputInt() which only returns only integer values. inorder to restrict the input between 0 and 99, we use parameters like min & max to ensure that user enters the values between the defined range only.\n",
    "Sample Code\n",
    "wholenumber = pyip.inputInt(prompt='Enter a number: ', min=0, max=100)"
   ]
  },
  {
   "cell_type": "raw",
   "id": "97405b42",
   "metadata": {},
   "source": [
    "Q5. What is transferred to the keyword arguments allowRegexes and blockRegexes?\n",
    "Ans.\n",
    "We can use allowRegexes and blockRegexes keyword arguments to take list of regular expression strings to determine what the pyinputplus function will reject or accept valid input."
   ]
  },
  {
   "cell_type": "raw",
   "id": "68d7b909",
   "metadata": {},
   "source": [
    "Q6. If a blank input is entered three times, what does inputStr(limit=3) do?\n",
    "Ans.\n",
    "The statement inputStr(limit=3) will throw two exceptions ValidationException and RetryLimitException. The first exception is thrown because blank values are not allowed by inputStr() function by default if we want to consider blank values as valid input, we have to set blank=True.The second exception is occured because we have reached the max limit we have specified by using limit parameter inorder to avoid this exception we can use default parameter to return a default value when max limit is reached."
   ]
  },
  {
   "cell_type": "raw",
   "id": "7177973c",
   "metadata": {},
   "source": [
    "Q7. If blank input is entered three times, what does inputStr(limit=3, default='hello') do?\n",
    "Ans: Since the default parameter is set to hello. after blank input is entered three times instead of raising RetryLimitException exception. the function will return hello as response to the calling function"
   ]
  }
 ],
 "metadata": {
  "kernelspec": {
   "display_name": "Python 3 (ipykernel)",
   "language": "python",
   "name": "python3"
  },
  "language_info": {
   "codemirror_mode": {
    "name": "ipython",
    "version": 3
   },
   "file_extension": ".py",
   "mimetype": "text/x-python",
   "name": "python",
   "nbconvert_exporter": "python",
   "pygments_lexer": "ipython3",
   "version": "3.9.7"
  }
 },
 "nbformat": 4,
 "nbformat_minor": 5
}
