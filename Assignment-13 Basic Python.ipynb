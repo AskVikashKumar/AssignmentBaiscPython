{
 "cells": [
  {
   "cell_type": "markdown",
   "id": "8a167961",
   "metadata": {},
   "source": [
    "###### Q1. What advantages do Excel spreadsheets have over CSV spreadsheets?"
   ]
  },
  {
   "cell_type": "markdown",
   "id": "d792d833",
   "metadata": {},
   "source": [
    "Ans:The Advantages of Excel over CSV are:\n",
    "1. Excel (XLS and XLSX) file formats are better for storing and analysing complex data.\n",
    "2. An Excel not only stores data but can also do operations on the data using macros, formulas etc\n",
    "3. CSV files are plain-text files, Does not contain formatting, formulas, macros, etc. It is also known as flat files"
   ]
  },
  {
   "cell_type": "markdown",
   "id": "9c2e524f",
   "metadata": {},
   "source": [
    "##### Q2.What do you pass to csv.reader() and csv.writer() to create reader and writer objects?"
   ]
  },
  {
   "cell_type": "code",
   "execution_count": 4,
   "id": "7bcb56bc",
   "metadata": {},
   "outputs": [
    {
     "name": "stdout",
     "output_type": "stream",
     "text": [
      "['r']\n",
      "['these is some text']\n"
     ]
    }
   ],
   "source": [
    "# we pass a File object, obtained from a call to open().\n",
    "# sample code csv writer\n",
    "'''\n",
    "csvfile=open(file.csv','w', newline='')\n",
    "obj=csv.writer(csvfile)\n",
    "'''\n",
    "#sample code csv reader\n",
    "import csv\n",
    "with open('texrt.csv','r') as file:\n",
    "    csv_file = csv.reader(file,delimiter=',')\n",
    "    for ele in csv_file:\n",
    "        print(ele)"
   ]
  },
  {
   "cell_type": "markdown",
   "id": "3c17bf4d",
   "metadata": {},
   "source": [
    "##### Q3. What modes do File objects for reader and writer objects need to be opened in?"
   ]
  },
  {
   "cell_type": "markdown",
   "id": "e2e64e69",
   "metadata": {},
   "source": [
    "Ans:For `csv.reader(iterable_file_object)`, the file objects needed to be opened in `read` mode `mode='r'` Whereas for `csv.writer(iterable_file_object)` the file objects needed to be opened in `write` mode `mode='w'`"
   ]
  },
  {
   "cell_type": "markdown",
   "id": "47bdd99a",
   "metadata": {},
   "source": [
    "##### Q4. What method takes a list argument and writes it to a CSV file?"
   ]
  },
  {
   "cell_type": "code",
   "execution_count": 1,
   "id": "23007666",
   "metadata": {},
   "outputs": [],
   "source": [
    "# Ans: csv.writer class provides two methods for writing to CSV. They are `writerow()` and `writerows().` writerow() method writes a single row at a time. Whereas writerows() method is used to write multiple rows at a time.\n",
    "\n",
    "# Example Program\n",
    "import csv      \n",
    "fields = ['Name', 'Course', 'IsInternship', 'Duration'] #column names \n",
    "rows = [ \n",
    "            ['Nikhil', 'Machine Learning', 'Yes', '2Yr'],  # data rows of csv file \n",
    "            ['Sanchit', 'Block Chain', 'No', '1Yr'], \n",
    "            ['Ravi', 'Drone Programming', 'Yes', '6months']\n",
    "       ] \n",
    "with open(\"enrollcandidates_details.csv\", 'w') as csvfile: \n",
    "    csvwriter = csv.writer(csvfile) # creating a csv writer object \n",
    "    csvwriter.writerow(fields) # writing the fields \n",
    "    csvwriter.writerows(rows) # writing the data rows "
   ]
  },
  {
   "cell_type": "markdown",
   "id": "579facdc",
   "metadata": {},
   "source": [
    "##### Q5. What do the keyword arguments delimiter and line terminator do?"
   ]
  },
  {
   "cell_type": "markdown",
   "id": "d1b26f20",
   "metadata": {},
   "source": [
    "Ans: Lets take the example of a csv file:  \n",
    "`First Name, Last Name, Age`  \n",
    "`Raj, Vishnu, 24`  \n",
    "`Vishnu, Roy, 21`  \n",
    "Here `','` is Delimiter. We can use any Character as per our needs if required. Similarly Line Terminator comes at end of line by default it is newline and can be changed accourding to Requirement."
   ]
  },
  {
   "cell_type": "markdown",
   "id": "cf2b491b",
   "metadata": {},
   "source": [
    "##### Q6. What function takes a string of JSON data and returns a Python data structure?"
   ]
  },
  {
   "cell_type": "markdown",
   "id": "d46136c6",
   "metadata": {},
   "source": [
    "Ans: `loads()` method takes a string of JSON data and returns a Python data structure"
   ]
  },
  {
   "cell_type": "code",
   "execution_count": 3,
   "id": "cc517118",
   "metadata": {},
   "outputs": [
    {
     "name": "stdout",
     "output_type": "stream",
     "text": [
      "{\n",
      "    \"Name\": \"Machine Learning\",\n",
      "    \"IsInternship\": \"Yes\",\n",
      "    \"Duration\": \"2Yrs\"\n",
      "}\n",
      "Type of Course_details_json is <class 'str'>\n",
      "{'Name': 'Machine Learning', 'IsInternship': 'Yes', 'Duration': '2Yrs'}\n",
      "Type of Course_details is <class 'dict'>\n"
     ]
    }
   ],
   "source": [
    "# Example of json.loads() method\n",
    "import json\n",
    "Course_details_json ='''{\n",
    "    \"Name\": \"Machine Learning\",\n",
    "    \"IsInternship\": \"Yes\",\n",
    "    \"Duration\": \"2Yrs\"\n",
    "}'''\n",
    "print(Course_details_json)\n",
    "print(f'Type of Course_details_json is {type(Course_details_json)}')\n",
    "Curs_details = json.loads(Course_details_json)\n",
    "print(Curs_details)\n",
    "print(f'Type of Course_details is {type(Curs_details)}')"
   ]
  },
  {
   "cell_type": "markdown",
   "id": "8b2ed910",
   "metadata": {},
   "source": [
    "##### Q7. What function takes a Python data structure and returns a string of JSON data?"
   ]
  },
  {
   "cell_type": "code",
   "execution_count": 4,
   "id": "9c5579f4",
   "metadata": {},
   "outputs": [
    {
     "name": "stdout",
     "output_type": "stream",
     "text": [
      "{'Name': 'Machine Learning', 'IsInternship': 'Yes', 'Duration': '2Yrs'}\n",
      "Type of my_details is <class 'dict'>\n",
      "{\n",
      "    \"Duration\": \"2Yrs\",\n",
      "    \"IsInternship\": \"Yes\",\n",
      "    \"Name\": \"Machine Learning\"\n",
      "}\n",
      "Type of my_details_json is <class 'str'>\n"
     ]
    }
   ],
   "source": [
    "#Ans: `dumps()` method takes a python data structure and returns a string of JSON data\n",
    "\n",
    "# Example of json.dumps() method\n",
    "import json\n",
    "Curs_details = {\n",
    "    \"Name\": \"Machine Learning\",\n",
    "    \"IsInternship\": \"Yes\",\n",
    "    \"Duration\": \"2Yrs\"\n",
    "}\n",
    "print(Curs_details)\n",
    "print(f'Type of my_details is {type(Curs_details)}')\n",
    "Course_details_json = json.dumps(Curs_details, indent=4, sort_keys=True)\n",
    "print(Course_details_json)\n",
    "print(f'Type of my_details_json is {type(Course_details_json)}')"
   ]
  }
 ],
 "metadata": {
  "kernelspec": {
   "display_name": "Python 3 (ipykernel)",
   "language": "python",
   "name": "python3"
  },
  "language_info": {
   "codemirror_mode": {
    "name": "ipython",
    "version": 3
   },
   "file_extension": ".py",
   "mimetype": "text/x-python",
   "name": "python",
   "nbconvert_exporter": "python",
   "pygments_lexer": "ipython3",
   "version": "3.9.7"
  }
 },
 "nbformat": 4,
 "nbformat_minor": 5
}
