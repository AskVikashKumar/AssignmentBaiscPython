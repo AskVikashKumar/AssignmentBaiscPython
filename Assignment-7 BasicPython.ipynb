{
 "cells": [
  {
   "cell_type": "markdown",
   "id": "15048606",
   "metadata": {},
   "source": [
    "Q1. What is the name of the feature responsible for generating Regex objects?"
   ]
  },
  {
   "cell_type": "code",
   "execution_count": 4,
   "id": "cfec5f6f",
   "metadata": {},
   "outputs": [
    {
     "name": "stdout",
     "output_type": "stream",
     "text": [
      "['e', 'a', 'd', 'b', 'e', 'a']\n"
     ]
    }
   ],
   "source": [
    "# Ans. The re.compile() function returns Regex objects.\n",
    "# Module Regular Expression is imported\n",
    "import re\n",
    "#compile() creates regular expression\n",
    "# character class [a-e], which is equivalent to [abcde]. class [abcde] will match with string with  'a', 'b', 'c', 'd', 'e'.\n",
    "p = re.compile('[a-e]')\n",
    "# findall() searches for the Regular Expression and return a list upon finding\n",
    "print(p.findall(\"Aye, said Mr. Gibenson Stark\"))"
   ]
  },
  {
   "cell_type": "markdown",
   "id": "f1f1d3f1",
   "metadata": {},
   "source": [
    "Q2. Why do raw strings often appear in Regex objects?"
   ]
  },
  {
   "cell_type": "raw",
   "id": "d0acea20",
   "metadata": {},
   "source": [
    "Ans. Raw string notation (r\"text\") keeps regular expressions sane. Without it, every backslash ('\\') in a regular expression would have to be prefixed with another one to escape it ,so one wants to match a literal backslash, it must be escaped in the regular expression. With raw string notation, this means r\"\\\\\". Without raw string notation, one must use \"\\\\\\\\\"                                                                                           "
   ]
  },
  {
   "cell_type": "markdown",
   "id": "da063b0b",
   "metadata": {},
   "source": [
    "Q3. What is the return value of the search() method?"
   ]
  },
  {
   "cell_type": "raw",
   "id": "2c927219",
   "metadata": {},
   "source": [
    "Ans .The search() method returns Match objects (re.search() checks for a match anywhere in the string ) E.g."
   ]
  },
  {
   "cell_type": "code",
   "execution_count": 5,
   "id": "6b648a14",
   "metadata": {},
   "outputs": [
    {
     "data": {
      "text/plain": [
       "<re.Match object; span=(2, 3), match='c'>"
      ]
     },
     "execution_count": 5,
     "metadata": {},
     "output_type": "execute_result"
    }
   ],
   "source": [
    "re.search(\"c\", \"abcdef\")"
   ]
  },
  {
   "cell_type": "raw",
   "id": "6ca09c92",
   "metadata": {},
   "source": [
    "Q4. From a Match item, how do you get the actual strings that match the pattern?\n",
    "Ans .The group() method returns strings of the matched text."
   ]
  },
  {
   "cell_type": "code",
   "execution_count": 6,
   "id": "883e3368",
   "metadata": {},
   "outputs": [
    {
     "name": "stdout",
     "output_type": "stream",
     "text": [
      "Output: Science\n"
     ]
    }
   ],
   "source": [
    "match = re.search('science','Data Science Analyst', flags=re.IGNORECASE)\n",
    "print('Output:',match.group())"
   ]
  },
  {
   "cell_type": "raw",
   "id": "172f4b73",
   "metadata": {},
   "source": [
    "Q5. In the regex which created from the r'(\\d\\d\\d)-(\\d\\d\\d-\\d\\d\\d\\d)', what does group zero cover? Group 2? Group 1?\n",
    "\n",
    "Ans. Group 0 is the entire match, group 1 covers the first set of parentheses, and group 2 covers the second set of parentheses. Some code below"
   ]
  },
  {
   "cell_type": "code",
   "execution_count": 2,
   "id": "e57734da",
   "metadata": {},
   "outputs": [
    {
     "name": "stdout",
     "output_type": "stream",
     "text": [
      "('415', '555-4242')\n",
      "415-555-4242\n",
      "415\n",
      "555-4242\n"
     ]
    }
   ],
   "source": [
    "# Example Program\n",
    "import re\n",
    "phoneNumRegex_dt = re.compile(r'(\\d\\d\\d)-(\\d\\d\\d-\\d\\d\\d\\d)')\n",
    "ro_e = phoneNumRegex_dt.search('My number is 415-555-4242.')\n",
    "print(ro_e.groups()) # Prints all groups in a tuple format\n",
    "print(ro_e.group()) # Always returns the fully matched string \n",
    "print(ro_e.group(1)) # Returns the first group\n",
    "print(ro_e.group(2)) # Returns the second group"
   ]
  },
  {
   "cell_type": "raw",
   "id": "7adea276",
   "metadata": {},
   "source": [
    "Q6. In standard expression syntax, parentheses and intervals have distinct meanings. How can you tell\n",
    "a regex that you want it to fit real parentheses and periods?\n",
    "\n",
    "Ans.Periods and parentheses can be escaped with a backslash: \\., \\(, and \\)."
   ]
  },
  {
   "cell_type": "raw",
   "id": "26421022",
   "metadata": {},
   "source": [
    "Q7. The findall() method returns a string list or a list of string tuples. What causes it to return one of\n",
    "the two options?\n",
    "\n",
    "Ans. If the regex has no groups, a list of strings is returned. If the regex has groups, a list of tuples of strings is returned.Sample Code Below"
   ]
  },
  {
   "cell_type": "code",
   "execution_count": 3,
   "id": "efbab6c1",
   "metadata": {},
   "outputs": [
    {
     "name": "stdout",
     "output_type": "stream",
     "text": [
      "[('(415)', '555-4242')]\n",
      "['415-555-4242']\n"
     ]
    }
   ],
   "source": [
    "# Example Program\n",
    "import re\n",
    "phoneNumRegex_dt1 = re.compile(r'(\\(\\d\\d\\d\\)) (\\d\\d\\d-\\d\\d\\d\\d)')\n",
    "re_dt2 = phoneNumRegex_dt1.findall('My phone number is (415) 555-4242.')\n",
    "print(re_dt2)\n",
    "\n",
    "# Example Program\n",
    "import re\n",
    "phoneNumRegex_dt2 = re.compile(r'\\d{3}-\\d{3}-\\d{4}')\n",
    "re_dt3 = phoneNumRegex_dt2.findall('My number is 415-555-4242.')\n",
    "print(re_dt3) # Prints all groups in a tuple format"
   ]
  },
  {
   "cell_type": "raw",
   "id": "99918cea",
   "metadata": {},
   "source": [
    "Q8. In standard expressions, what does the | character mean?\n",
    "Ans.The | character signifies matching \"either, or\" between two groups."
   ]
  },
  {
   "cell_type": "raw",
   "id": "2f5a232b",
   "metadata": {},
   "source": [
    "Q9. In regular expressions, what does the ?  character stand for?\n",
    "Ans.The ? character can either mean \"match zero or one of the preceding group\" or be used to signify nongreedy matching.Sample code below"
   ]
  },
  {
   "cell_type": "code",
   "execution_count": 4,
   "id": "1b7dab7f",
   "metadata": {},
   "outputs": [
    {
     "name": "stdout",
     "output_type": "stream",
     "text": [
      "<re.Match object; span=(0, 6), match='Batman'>\n",
      "<re.Match object; span=(0, 8), match='Batwoman'>\n"
     ]
    }
   ],
   "source": [
    "# Example Program\n",
    "import re\n",
    "Demomatch_1 = re.search(\"Bat(wo)?man\",\"Batman returns\")\n",
    "print(Demomatch_1)\n",
    "Demomatch_2 = re.search(\"Bat(wo)?man\",\"Batwoman returns\")\n",
    "print(Demomatch_2)"
   ]
  },
  {
   "cell_type": "markdown",
   "id": "5cccd203",
   "metadata": {},
   "source": [
    "Q10. In regular expressions, what is the difference between the + and * characters?\n",
    "Ans. In Regular Expressions, * Represents Zero ore more occurances of the preceeding group, whereas + represents one or more occurances of the preceeding group. Sample code below"
   ]
  },
  {
   "cell_type": "code",
   "execution_count": 8,
   "id": "a8312202",
   "metadata": {},
   "outputs": [
    {
     "name": "stdout",
     "output_type": "stream",
     "text": [
      "<re.Match object; span=(0, 8), match='Superman'>\n",
      "<re.Match object; span=(0, 8), match='Batwoman'>\n",
      "None\n"
     ]
    }
   ],
   "source": [
    "import re\n",
    "test_demo1 = re.search(\"Super(wo)*man\",\"Superman returns\")\n",
    "print(test_demo1)\n",
    "test_demo2 = re.search(\"Bat(wo)+man\",\"Batwoman versus Batman\")\n",
    "print(test_demo2)\n",
    "test_demo3 = re.search(\"Bat(wo)+man\",\"Batman versus Ironman\")\n",
    "print(test_demo3)"
   ]
  },
  {
   "cell_type": "raw",
   "id": "45da4176",
   "metadata": {},
   "source": [
    "Q11. What is the difference between {4} and {4,5} in regular expression?\n",
    "Ans The {4} matches exactly four instances of the preceding group where as {4,5} means that its  The {4,5} preceeding group should repeat mininum 4 times and maximum 5 times inclusively"
   ]
  },
  {
   "cell_type": "raw",
   "id": "0e91fc63",
   "metadata": {},
   "source": [
    "Q12. What do you mean by the \\d, \\w, and \\s shorthand character classes signify in regular\n",
    "expressions?\n",
    "Ans:\n",
    "\\d, \\w and \\s are special sequences in regular expresssions in python:\n",
    "\\w – Matches a word character equivalent to [a-zA-Z0-9_]\n",
    "\\d – Matches digit character equivalent to [0-9]\n",
    "\\s – Matches whitespace character (space, tab, newline, etc.)"
   ]
  },
  {
   "cell_type": "raw",
   "id": "69b700c6",
   "metadata": {},
   "source": [
    "Q13. What do means by \\D, \\W, and \\S shorthand character classes signify in regular expressions?\n",
    "Ans: \n",
    "\\D, \\W and \\S are special sequences in regular expresssions in python:\n",
    "\\W – Matches any non-alphanumeric character equivalent to [^a-zA-Z0-9_]\n",
    "\\D – Matches any non-digit character, this is equivalent to the set class [^0-9]\n",
    "\\S – Matches any non-whitespace character"
   ]
  },
  {
   "cell_type": "code",
   "execution_count": null,
   "id": "81f7cf8f",
   "metadata": {},
   "outputs": [],
   "source": [
    "14. What is the difference between .*? and .*?\n",
    "It . performs a greedy match, and the .? performs a nongreedy match"
   ]
  },
  {
   "cell_type": "raw",
   "id": "93be0ef3",
   "metadata": {},
   "source": [
    "Q15. What is the syntax for matching both numbers and lowercase letters with a character class?\n",
    "Ans .The Synatax for matching both numbers and lowercase letters with a character class is either [a-z0-9] or [0-9a-z]"
   ]
  },
  {
   "cell_type": "raw",
   "id": "759ab7b0",
   "metadata": {},
   "source": [
    "Q16. What is the procedure for making a normal expression in regax case insensitive?\n",
    "Ans We can pass re.IGNORECASE as a flag to make a noraml expression case insensitive"
   ]
  },
  {
   "cell_type": "raw",
   "id": "fad272ef",
   "metadata": {},
   "source": [
    "Q17. What does the . character normally match? What does it match if re.DOTALL is passed as 2nd\n",
    "argument in re.compile()?\n",
    "Ans. Dot . character matches everything in input except newline character .. By passing re.DOTALL as a flag to re.compile(), we can make the dot character match all characters, including the newline character"
   ]
  },
  {
   "cell_type": "raw",
   "id": "4e09aa37",
   "metadata": {},
   "source": [
    "Q18. If numReg = re.compile(r'\\d+'), what will numRegex.sub('X', '11 drummers, 10 pipers, five rings, 4 hen') return?\n",
    "Ans: The Ouput will be 'X drummers, X pipers, five rings, X hen' below"
   ]
  },
  {
   "cell_type": "code",
   "execution_count": 1,
   "id": "2d548625",
   "metadata": {},
   "outputs": [
    {
     "data": {
      "text/plain": [
       "'X drummers, X pipers, five rings, X hen'"
      ]
     },
     "execution_count": 1,
     "metadata": {},
     "output_type": "execute_result"
    }
   ],
   "source": [
    "import re\n",
    "numReg = re.compile(r'\\d+')\n",
    "numReg.sub('X', '11 drummers, 10 pipers, five rings, 4 hen')"
   ]
  },
  {
   "cell_type": "raw",
   "id": "6ae4a6e4",
   "metadata": {},
   "source": [
    "Q19. What does passing re.VERBOSE as the 2nd argument to re.compile() allow to do?\n",
    "Ans. The re.VERBOSE argument allows you to add whitespace and comments to the string passed to re.compile()."
   ]
  },
  {
   "cell_type": "raw",
   "id": "89d123d0",
   "metadata": {},
   "source": [
    "Q20. How would you write a regex that match a number with comma for every three digits? It must\n",
    "match the given following:\n",
    "'42'\n",
    "'1,234'\n",
    "'6,368,745'\n",
    "but not the following:\n",
    "'12,34,567' (which has only two digits between the commas)\n",
    "'1234' (which lacks commas)\n",
    "\n",
    "Ans .\n",
    "We can write a regex that match a number with comma for every three digits with this statement\n",
    "re.compile(r'^\\d{1,3}(,\\d{3})*$') will create this regex"
   ]
  },
  {
   "cell_type": "code",
   "execution_count": 13,
   "id": "5f9cd55e",
   "metadata": {},
   "outputs": [
    {
     "name": "stdout",
     "output_type": "stream",
     "text": [
      "42 -> <re.Match object; span=(0, 2), match='42'>\n",
      "1,234 -> <re.Match object; span=(0, 5), match='1,234'>\n",
      "6,368,745 -> <re.Match object; span=(0, 9), match='6,368,745'>\n",
      "12,34,567 -> None\n",
      "1234 -> None\n"
     ]
    }
   ],
   "source": [
    "import re\n",
    "pattern = r'^\\d{1,3}(,\\d{3})*$'\n",
    "pa_dgt = re.compile(pattern)\n",
    "for el in ['42','1,234', '6,368,745','12,34,567','1234']:\n",
    "    print(el, '->', pa_dgt.search(el))"
   ]
  },
  {
   "cell_type": "raw",
   "id": "908a5798",
   "metadata": {},
   "source": [
    "Q21. How would you write a regex that matches the full name of someone whose last name is\n",
    "Watanabe? You can assume that the first name that comes before it will always be one word that\n",
    "begins with a capital letter. The regex must match the following:\n",
    "be one word that begins with a capital letter. The regex must match the following:\n",
    "'Haruto Watanabe'\n",
    "'Alice Watanabe'\n",
    "'RoboCop Watanabe'\n",
    "but not the following:\n",
    "'haruto Watanabe' (where the first name is not capitalized)\n",
    "'Mr. Watanabe' (where the preceding word has a nonletter character)\n",
    "'Watanabe' (which has no first name)\n",
    "'Haruto watanabe' (where Watanabe is not capitalized)\n",
    "\n",
    "Ans . We can write like this re.compile(r'[A-Z][a-z]*\\sWatanabe')"
   ]
  },
  {
   "cell_type": "code",
   "execution_count": 11,
   "id": "36a943de",
   "metadata": {},
   "outputs": [
    {
     "name": "stdout",
     "output_type": "stream",
     "text": [
      "Haruto Watanabe -> <re.Match object; span=(0, 15), match='Haruto Watanabe'>\n",
      "Alice Watanabe -> <re.Match object; span=(0, 14), match='Alice Watanabe'>\n",
      "RoboCop Watanabe -> <re.Match object; span=(4, 16), match='Cop Watanabe'>\n",
      "haruto Watanabe -> None\n",
      "Mr. Watanabe -> None\n",
      "Watanabe -> None\n",
      "Haruto watanabe -> None\n"
     ]
    }
   ],
   "source": [
    "import re\n",
    "pattern = r'[A-Z]{1}[a-z]*\\sWatanabe'\n",
    "name_srch = re.compile(pattern)\n",
    "for name in ['Haruto Watanabe','Alice Watanabe','RoboCop Watanabe','haruto Watanabe','Mr. Watanabe','Watanabe','Haruto watanabe']:\n",
    "    print(name,'->',name_srch.search(name))"
   ]
  },
  {
   "cell_type": "raw",
   "id": "422a3f2f",
   "metadata": {},
   "source": [
    "Q22. How would you write a regex that matches a sentence where the first word is either Alice, Bob,\n",
    "or Carol; the second word is either eats, pets, or throws; the third word is apples, cats, or baseballs;\n",
    "and the sentence ends with a period? This regex should be case-insensitive. It must match the\n",
    "following:\n",
    "'Alice eats apples.'\n",
    "'Bob pets cats.'\n",
    "'Carol throws baseballs.'\n",
    "'Alice throws Apples.'\n",
    "'BOB EATS CATS.'\n",
    "but not the following:\n",
    "'RoboCop eats apples.'\n",
    "'ALICE THROWS FOOTBALLS.'\n",
    "'Carol eats 7 cats.'\n",
    "\n",
    "Ans. \n",
    "We can write like this re.compile(r'(Alice|Bob|Carol)\\s(eats|pets|throws)\\s(apples|cats|baseballs)\\.', re.IGNORECASE)"
   ]
  },
  {
   "cell_type": "code",
   "execution_count": 9,
   "id": "18a09fdc",
   "metadata": {},
   "outputs": [
    {
     "name": "stdout",
     "output_type": "stream",
     "text": [
      "Alice eats apples. :- <re.Match object; span=(0, 18), match='Alice eats apples.'>\n",
      "Bob pets cats. :- <re.Match object; span=(0, 14), match='Bob pets cats.'>\n",
      "Carol throws baseballs. :- <re.Match object; span=(0, 23), match='Carol throws baseballs.'>\n",
      "Alice throws Apples. :- <re.Match object; span=(0, 20), match='Alice throws Apples.'>\n",
      "BOB EATS CATS. :- <re.Match object; span=(0, 14), match='BOB EATS CATS.'>\n",
      "RoboCop eats apples. :- None\n",
      "ALICE THROWS FOOTBALLS. :- None\n",
      "Carol eats 7 cats. :- None\n"
     ]
    }
   ],
   "source": [
    "import re\n",
    "pattern_stmt = r'(Alice|Bob|Carol)\\s(eats|pets|throws)\\s(apples|cats|baseballs)\\.'\n",
    "cas_inse = re.compile(pattern_stmt,re.IGNORECASE)\n",
    "for e in ['Alice eats apples.','Bob pets cats.','Carol throws baseballs.','Alice throws Apples.','BOB EATS CATS.','RoboCop eats apples.'\n",
    ",'ALICE THROWS FOOTBALLS.','Carol eats 7 cats.']:\n",
    "    print(e,':-',cas_inse.search(e))"
   ]
  }
 ],
 "metadata": {
  "kernelspec": {
   "display_name": "Python 3 (ipykernel)",
   "language": "python",
   "name": "python3"
  },
  "language_info": {
   "codemirror_mode": {
    "name": "ipython",
    "version": 3
   },
   "file_extension": ".py",
   "mimetype": "text/x-python",
   "name": "python",
   "nbconvert_exporter": "python",
   "pygments_lexer": "ipython3",
   "version": "3.9.7"
  }
 },
 "nbformat": 4,
 "nbformat_minor": 5
}
