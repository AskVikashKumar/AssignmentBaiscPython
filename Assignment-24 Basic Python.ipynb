{
 "cells": [
  {
   "cell_type": "markdown",
   "id": "745bb3b7",
   "metadata": {},
   "source": [
    "#### Q1. What is the relationship between def statements and lambda expressions ?"
   ]
  },
  {
   "cell_type": "markdown",
   "id": "18642e00",
   "metadata": {},
   "source": [
    "##### Ans: The statement def is used to create a normal function,where as lamba expressions are used to create anonymous functions which can be assigned to a variable and can be called using the variable later in function.Lambda's body is a single expression and not a block of statements like def statement. The lambda expressions body is similar to  put in a def body's return statement. We simply type the result as an expression instead of explicitly returning it because it is limited to an expression."
   ]
  },
  {
   "cell_type": "markdown",
   "id": "8aee56c9",
   "metadata": {},
   "source": [
    "#Normal python function\n",
    "def a_name(x):\n",
    "    return x+x\n",
    "#Lambda function\n",
    "lambda x: x+x"
   ]
  },
  {
   "cell_type": "markdown",
   "id": "d25b1304",
   "metadata": {},
   "source": [
    "#### Q2. What is the benefit of lambda?"
   ]
  },
  {
   "cell_type": "markdown",
   "id": "02898d9e",
   "metadata": {},
   "source": [
    "##### Ans: Some of the benefits of lambda expressions:  Used to create Nameless/Anonymous functions inside some complex functions if we are planning to use it only once.Modrate to small functions can be created in a single line .Fuctions created using lambda  can be assigned to a variable and can be used by simply calling the variable"
   ]
  },
  {
   "cell_type": "markdown",
   "id": "4250dc8f",
   "metadata": {},
   "source": [
    "#### Q3. Compare and contrast map, filter, and reduce."
   ]
  },
  {
   "cell_type": "markdown",
   "id": "e97c337f",
   "metadata": {},
   "source": [
    "##### Ans: Differences between map, filter and reduce are: The map() function is a type of higher-order & it takes another function as a parameter along with a sequence of iterables and returns an output after applying the function to each iterable present in the sequence. \n",
    "###### The filter() function is used to create an output list consisting of values for which the function returns true.The reduce() function, as the name describes, applies a given function to the iterables and returns a single value"
   ]
  },
  {
   "cell_type": "code",
   "execution_count": 1,
   "id": "1a59f4ea",
   "metadata": {},
   "outputs": [
    {
     "name": "stdout",
     "output_type": "stream",
     "text": [
      "[2, 4, 6, 8]\n"
     ]
    }
   ],
   "source": [
    "# map functin\n",
    "umbers = (1, 2, 3, 4)\n",
    "result = map(lambda x: x + x, umbers)\n",
    "print(list(result))"
   ]
  },
  {
   "cell_type": "code",
   "execution_count": 2,
   "id": "20074538",
   "metadata": {},
   "outputs": [
    {
     "name": "stdout",
     "output_type": "stream",
     "text": [
      "365\n"
     ]
    }
   ],
   "source": [
    "# reduce function\n",
    "from functools import reduce\n",
    "scores = [75, 65, 80, 95, 50]\n",
    "total = reduce(lambda a, b: a + b, scores)\n",
    "print(total)"
   ]
  },
  {
   "cell_type": "code",
   "execution_count": 3,
   "id": "b3596bef",
   "metadata": {},
   "outputs": [
    {
     "name": "stdout",
     "output_type": "stream",
     "text": [
      "[70, 80, 90]\n"
     ]
    }
   ],
   "source": [
    "# fitler function\n",
    "scores = [70, 60, 80, 90, 50]\n",
    "filtered = filter(lambda score: score >= 70, scores)\n",
    "print(list(filtered))"
   ]
  },
  {
   "cell_type": "markdown",
   "id": "14e45500",
   "metadata": {},
   "source": [
    "#### Q4. What are function annotations, and how are they used?"
   ]
  },
  {
   "cell_type": "markdown",
   "id": "2549dce0",
   "metadata": {},
   "source": [
    "##### Ans: Function annotations provide a way of associating various parts of a function with arbitrary pythoncexpressions at compile time.   Annotations of simple parameters def func(x: expression, y: expression = 20):Whereas the annotations for excess parameters are as − def func (**args: expression, **kwargs: expression):`"
   ]
  },
  {
   "cell_type": "markdown",
   "id": "f3c08b09",
   "metadata": {},
   "source": [
    "#### Q5. What are recursive functions, and how are they used?"
   ]
  },
  {
   "cell_type": "markdown",
   "id": "4bf3cd3e",
   "metadata": {},
   "source": [
    "##### Ans: A recursive function is a function that calls itself during its execution. The process may repeat several times, outputting the result and the end of each iteration. "
   ]
  },
  {
   "cell_type": "markdown",
   "id": "0bbd9cda",
   "metadata": {},
   "source": [
    "#### Q6. What are some general design guidelines for coding functions?"
   ]
  },
  {
   "cell_type": "markdown",
   "id": "593dc883",
   "metadata": {},
   "source": [
    "##### Ans: Some of the general design guidelines for coding functions are:\n",
    "1. Always use a docstring to explain the functionality of the function\n",
    "2. avoid using or limited use of global variables.proper Identation to increase the code readability\n",
    "3. try to follow a naming convention for function names (pascalCase or camelCase) and stick with the same convention throughout the application.\n",
    "4. Avoid using digits while choosing a variable name . try to use a name for the function which conveys the purpose of the function\n",
    "5. Local variables should be named using camelCase format (ex: localVariable) whereas Global variables names should be using PascalCase (ex:GlobalVariable). Constant should be represented in allcaps (ex:CONSTANT)."
   ]
  },
  {
   "cell_type": "markdown",
   "id": "db6aeb4e",
   "metadata": {},
   "source": [
    "#### Q7. Name three or more ways that functions can communicate results to a caller."
   ]
  },
  {
   "cell_type": "markdown",
   "id": "f9771c3e",
   "metadata": {},
   "source": [
    "##### Ans: Some of the ways in which a function can communicate with the calling function is:print, return & yield"
   ]
  }
 ],
 "metadata": {
  "kernelspec": {
   "display_name": "Python 3 (ipykernel)",
   "language": "python",
   "name": "python3"
  },
  "language_info": {
   "codemirror_mode": {
    "name": "ipython",
    "version": 3
   },
   "file_extension": ".py",
   "mimetype": "text/x-python",
   "name": "python",
   "nbconvert_exporter": "python",
   "pygments_lexer": "ipython3",
   "version": "3.9.7"
  }
 },
 "nbformat": 4,
 "nbformat_minor": 5
}
