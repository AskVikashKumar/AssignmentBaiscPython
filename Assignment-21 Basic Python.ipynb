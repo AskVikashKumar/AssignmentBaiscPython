{
 "cells": [
  {
   "cell_type": "markdown",
   "id": "7bf138fc",
   "metadata": {},
   "source": [
    "#### Q1. Add the current date to the text file today.txt as a string."
   ]
  },
  {
   "cell_type": "code",
   "execution_count": 1,
   "id": "b85adbed",
   "metadata": {},
   "outputs": [
    {
     "name": "stdout",
     "output_type": "stream",
     "text": [
      "25-03-2022\n"
     ]
    }
   ],
   "source": [
    "import datetime\n",
    "# Code to Add current date to the today.txt file\n",
    "file = open('today.txt','w')\n",
    "file.write(datetime.datetime.now().strftime(\"%d-%m-%Y\"))\n",
    "file.close()\n",
    "# Code to Read current date from today.txt file\n",
    "file = open('today.txt','r')\n",
    "print(file.read())\n",
    "file.close()"
   ]
  },
  {
   "cell_type": "markdown",
   "id": "aadf3f13",
   "metadata": {},
   "source": [
    "#### Q2. Read the text file today.txt into the string today_string"
   ]
  },
  {
   "cell_type": "code",
   "execution_count": 2,
   "id": "62c4829b",
   "metadata": {},
   "outputs": [
    {
     "name": "stdout",
     "output_type": "stream",
     "text": [
      "25-03-2022\n"
     ]
    }
   ],
   "source": [
    "file = open('today.txt','r')\n",
    "today_string = file.read()\n",
    "print(today_string)"
   ]
  },
  {
   "cell_type": "markdown",
   "id": "857814a0",
   "metadata": {},
   "source": [
    "#### Q3. Parse the date from today_string."
   ]
  },
  {
   "cell_type": "code",
   "execution_count": 3,
   "id": "44f418b7",
   "metadata": {},
   "outputs": [
    {
     "name": "stdout",
     "output_type": "stream",
     "text": [
      "2022-03-25 00:00:00\n"
     ]
    }
   ],
   "source": [
    "from datetime import datetime\n",
    "parsed_data = datetime.strptime(today_string, '%d-%m-%Y')\n",
    "print(parsed_data)"
   ]
  },
  {
   "cell_type": "markdown",
   "id": "29a26985",
   "metadata": {},
   "source": [
    "#### Q4. List the files in your current directory"
   ]
  },
  {
   "cell_type": "code",
   "execution_count": 1,
   "id": "168533ff",
   "metadata": {},
   "outputs": [
    {
     "name": "stdout",
     "output_type": "stream",
     "text": [
      "Assignment -2 Basic Python.ipynb\n",
      "Assignment-1 Basic Python.ipynb\n",
      "Assignment-10 BasicPython.ipynb\n",
      "Assignment-11 BasicPython.ipynb\n",
      "Assignment-12 BasicPython.ipynb\n",
      "Assignment-13 Basic Python.ipynb\n",
      "Assignment-14 Basic Python.ipynb\n",
      "Assignment-15 Basic Python.ipynb\n",
      "Assignment-16 Basic Python.ipynb\n",
      "Assignment-17 Basic Python.ipynb\n",
      "Assignment-18 Basic Python.ipynb\n",
      "Assignment-19 Basic Python.ipynb\n",
      "Assignment-20 Basic Python.ipynb\n",
      "Assignment-21 Basic Python.ipynb\n",
      "Assignment-22 Basic Python.ipynb\n",
      "Assignment-23 Basic Python.ipynb\n",
      "Assignment-24 Basic Python.ipynb\n",
      "Assignment-3 Basic Python.ipynb\n",
      "Assignment-3 BasicProgram Python.ipynb\n",
      "Assignment-4 Basic Python.ipynb\n",
      "Assignment-4 BasicProgramPython.ipynb\n",
      "Assignment-5 Basic Python.ipynb\n",
      "Assignment-5 BasicProgram Python.ipynb\n",
      "Assignment-6 Basic Python.ipynb\n",
      "Assignment-6 BasicProgram Python.ipynb\n",
      "Assignment-7 BasicPython.ipynb\n",
      "Assignment-8 BasicPython.ipynb\n",
      "Assignment-9 BasicPython.ipynb\n",
      "BasicProgramAssignment-2.ipynb\n",
      "BasicProgrammingAssignment-1.ipynb\n"
     ]
    }
   ],
   "source": [
    "import os\n",
    "for folders, subfolders, files in os.walk(os.getcwd()):\n",
    "    for file in files:\n",
    "        print(file)"
   ]
  },
  {
   "cell_type": "markdown",
   "id": "8b50d4f0",
   "metadata": {},
   "source": [
    "#### Q5. Create a list of all of the files in your parent directory (minimum five files should be available)."
   ]
  },
  {
   "cell_type": "code",
   "execution_count": 3,
   "id": "8fa0d6dc",
   "metadata": {},
   "outputs": [
    {
     "data": {
      "text/plain": [
       "['.ipynb_checkpoints',\n",
       " 'Assignment -2 Basic Python.ipynb',\n",
       " 'Assignment-1 Basic Python.ipynb',\n",
       " 'Assignment-10 BasicPython.ipynb',\n",
       " 'Assignment-11 BasicPython.ipynb',\n",
       " 'Assignment-12 BasicPython.ipynb',\n",
       " 'Assignment-13 Basic Python.ipynb',\n",
       " 'Assignment-14 Basic Python.ipynb',\n",
       " 'Assignment-15 Basic Python.ipynb',\n",
       " 'Assignment-16 Basic Python.ipynb',\n",
       " 'Assignment-17 Basic Python.ipynb',\n",
       " 'Assignment-18 Basic Python.ipynb',\n",
       " 'Assignment-19 Basic Python.ipynb',\n",
       " 'Assignment-20 Basic Python.ipynb',\n",
       " 'Assignment-21 Basic Python.ipynb',\n",
       " 'Assignment-22 Basic Python.ipynb',\n",
       " 'Assignment-23 Basic Python.ipynb',\n",
       " 'Assignment-24 Basic Python.ipynb',\n",
       " 'Assignment-3 Basic Python.ipynb',\n",
       " 'Assignment-3 BasicProgram Python.ipynb',\n",
       " 'Assignment-4 Basic Python.ipynb',\n",
       " 'Assignment-4 BasicProgramPython.ipynb',\n",
       " 'Assignment-5 Basic Python.ipynb',\n",
       " 'Assignment-5 BasicProgram Python.ipynb',\n",
       " 'Assignment-6 Basic Python.ipynb',\n",
       " 'Assignment-6 BasicProgram Python.ipynb',\n",
       " 'Assignment-7 BasicPython.ipynb',\n",
       " 'Assignment-8 BasicPython.ipynb',\n",
       " 'Assignment-9 BasicPython.ipynb',\n",
       " 'BasicProgramAssignment-2.ipynb',\n",
       " 'BasicProgrammingAssignment-1.ipynb']"
      ]
     },
     "execution_count": 3,
     "metadata": {},
     "output_type": "execute_result"
    }
   ],
   "source": [
    "import os \n",
    "os.listdir()"
   ]
  },
  {
   "cell_type": "markdown",
   "id": "ca562629",
   "metadata": {},
   "source": [
    "#### Q6. Use multiprocessing to create three separate processes. Make each one wait a random number of seconds between one and five, print the current time, and then exit."
   ]
  },
  {
   "cell_type": "code",
   "execution_count": 4,
   "id": "7d72b7b4",
   "metadata": {},
   "outputs": [],
   "source": [
    "import multiprocessing,time,datetime,random \n",
    "\n",
    "def proc_One():\n",
    "    print(f'Proc_one_Starttime -> {datetime.datetime.now()}')\n",
    "    time.sleep(random.randint(1,5))\n",
    "    print(f'Proc_one_Endtime -> {datetime.datetime.now()}')\n",
    "    \n",
    "def proc_Two():\n",
    "    print(f'Proc_two_Starttime -> {datetime.datetime.now()}')\n",
    "    time.sleep(random.randint(1,5))\n",
    "    print(f'Proc_two_Endtime -> {datetime.datetime.now()}')\n",
    "\n",
    "def proc_Three():\n",
    "    print(f'Proc_two_Starttime -> {datetime.datetime.now()}')\n",
    "    time.sleep(random.randint(1,5))\n",
    "    print(f'Proc_two_Endtime -> {datetime.datetime.now()}')\n",
    "    \n",
    "if __name__ == \"__main__\":    \n",
    "    p1 = multiprocessing.Process(target=proc_One)\n",
    "    p2 = multiprocessing.Process(target=proc_Two)\n",
    "    p3 = multiprocessing.Process(target=proc_Three)\n",
    "\n",
    "    p1.start()\n",
    "    p2.start()\n",
    "    p3.start()\n",
    "\n",
    "    p1.join()\n",
    "    p2.join()\n",
    "    p3.join()"
   ]
  },
  {
   "cell_type": "raw",
   "id": "f833a277",
   "metadata": {},
   "source": [
    "Not able print in juypter but complier online got this output ref https://www.jdoodle.com/python3-programming-online/\n",
    "Proc_one_Starttime -> 2022-03-26 06:40:42.016391\n",
    "Proc_one_Endtime -> 2022-03-26 06:40:43.017638\n",
    "Proc_two_Starttime -> 2022-03-26 06:40:42.017226\n",
    "Proc_two_Endtime -> 2022-03-26 06:40:44.018711\n",
    "Proc_two_Starttime -> 2022-03-26 06:40:42.018185\n",
    "Proc_two_Endtime -> 2022-03-26 06:40:46.019890"
   ]
  },
  {
   "cell_type": "markdown",
   "id": "c79cc496",
   "metadata": {},
   "source": [
    "#### Q7. Create a date object of your day of birth."
   ]
  },
  {
   "cell_type": "code",
   "execution_count": 5,
   "id": "a43e45a1",
   "metadata": {},
   "outputs": [
    {
     "name": "stdout",
     "output_type": "stream",
     "text": [
      "1997-04-22 00:00:00 <class 'datetime.datetime'>\n"
     ]
    }
   ],
   "source": [
    "from datetime import datetime\n",
    "my_dob = datetime.strptime('22/04/1997','%d/%m/%Y')\n",
    "print(my_dob, type(my_dob))"
   ]
  },
  {
   "cell_type": "markdown",
   "id": "29f66567",
   "metadata": {},
   "source": [
    "#### Q8. What day of the week was your day of birth?"
   ]
  },
  {
   "cell_type": "code",
   "execution_count": 6,
   "id": "46a17613",
   "metadata": {},
   "outputs": [
    {
     "data": {
      "text/plain": [
       "'Tuesday'"
      ]
     },
     "execution_count": 6,
     "metadata": {},
     "output_type": "execute_result"
    }
   ],
   "source": [
    "from datetime import datetime\n",
    "my_dob = datetime(1997,4,22)\n",
    "my_dob.strftime(\"%A\")"
   ]
  },
  {
   "cell_type": "markdown",
   "id": "cc865459",
   "metadata": {},
   "source": [
    "#### Q9. When will you be (or when were you) 10,000 days old?"
   ]
  },
  {
   "cell_type": "code",
   "execution_count": 8,
   "id": "875b284f",
   "metadata": {},
   "outputs": [
    {
     "data": {
      "text/plain": [
       "datetime.datetime(1969, 12, 5, 0, 0)"
      ]
     },
     "execution_count": 8,
     "metadata": {},
     "output_type": "execute_result"
    }
   ],
   "source": [
    "from datetime import datetime, timedelta\n",
    "my_dob = datetime.strptime(\"22/04/1997\",'%d/%m/%Y')\n",
    "future_date = my_dob-timedelta(10000)\n",
    "future_date"
   ]
  }
 ],
 "metadata": {
  "kernelspec": {
   "display_name": "Python 3 (ipykernel)",
   "language": "python",
   "name": "python3"
  },
  "language_info": {
   "codemirror_mode": {
    "name": "ipython",
    "version": 3
   },
   "file_extension": ".py",
   "mimetype": "text/x-python",
   "name": "python",
   "nbconvert_exporter": "python",
   "pygments_lexer": "ipython3",
   "version": "3.9.7"
  }
 },
 "nbformat": 4,
 "nbformat_minor": 5
}
