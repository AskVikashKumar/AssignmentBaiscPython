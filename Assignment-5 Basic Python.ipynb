{
 "cells": [
  {
   "cell_type": "markdown",
   "id": "a3365603",
   "metadata": {},
   "source": [
    "Q1.What does an empty dictionary's code look like?"
   ]
  },
  {
   "cell_type": "code",
   "execution_count": 1,
   "id": "c838b2e7",
   "metadata": {},
   "outputs": [
    {
     "data": {
      "text/plain": [
       "dict"
      ]
     },
     "execution_count": 1,
     "metadata": {},
     "output_type": "execute_result"
    }
   ],
   "source": [
    "# Empty dictionary\n",
    "emptyDict = {}\n",
    "type(emptyDict)"
   ]
  },
  {
   "cell_type": "markdown",
   "id": "25ed5440",
   "metadata": {},
   "source": [
    "Q2.What is the value of a dictionary value with the key 'foo' and the value 42?"
   ]
  },
  {
   "cell_type": "code",
   "execution_count": 2,
   "id": "30a8d0e6",
   "metadata": {},
   "outputs": [
    {
     "data": {
      "text/plain": [
       "42"
      ]
     },
     "execution_count": 2,
     "metadata": {},
     "output_type": "execute_result"
    }
   ],
   "source": [
    "# The value will be 42\n",
    "my_dict = {'foo': 42}\n",
    "my_dict['foo']"
   ]
  },
  {
   "cell_type": "markdown",
   "id": "4150463c",
   "metadata": {},
   "source": [
    "Q3.What is the most significant distinction between a dictionary and a list?"
   ]
  },
  {
   "cell_type": "raw",
   "id": "df453a21",
   "metadata": {},
   "source": [
    "# The dictionary is created using {} or dict()\n",
    "dict3 = {'k1': 123, 'k2': 2+3j}\n",
    "# The list is created using [] or list()\n",
    "list3 = [12,23,45]"
   ]
  },
  {
   "cell_type": "markdown",
   "id": "8f3b502a",
   "metadata": {},
   "source": [
    "Q4.What happens if you try to access spam['foo'] if spam is {'bar': 100}?"
   ]
  },
  {
   "cell_type": "raw",
   "id": "316296e2",
   "metadata": {},
   "source": [
    "Though the above will show an error as KeyError .Sample Code of same"
   ]
  },
  {
   "cell_type": "code",
   "execution_count": 4,
   "id": "bc1aa08a",
   "metadata": {},
   "outputs": [
    {
     "ename": "KeyError",
     "evalue": "'foo'",
     "output_type": "error",
     "traceback": [
      "\u001b[1;31m---------------------------------------------------------------------------\u001b[0m",
      "\u001b[1;31mKeyError\u001b[0m                                  Traceback (most recent call last)",
      "\u001b[1;32m~\\AppData\\Local\\Temp/ipykernel_12548/414641506.py\u001b[0m in \u001b[0;36m<module>\u001b[1;34m\u001b[0m\n\u001b[0;32m      1\u001b[0m \u001b[0mspam\u001b[0m \u001b[1;33m=\u001b[0m \u001b[1;33m{\u001b[0m\u001b[1;34m'bar'\u001b[0m\u001b[1;33m:\u001b[0m \u001b[1;36m100\u001b[0m\u001b[1;33m}\u001b[0m\u001b[1;33m\u001b[0m\u001b[1;33m\u001b[0m\u001b[0m\n\u001b[1;32m----> 2\u001b[1;33m \u001b[0mspam\u001b[0m\u001b[1;33m[\u001b[0m\u001b[1;34m'foo'\u001b[0m\u001b[1;33m]\u001b[0m\u001b[1;33m\u001b[0m\u001b[1;33m\u001b[0m\u001b[0m\n\u001b[0m",
      "\u001b[1;31mKeyError\u001b[0m: 'foo'"
     ]
    }
   ],
   "source": [
    "spam = {'bar': 100}\n",
    "spam['foo']"
   ]
  },
  {
   "cell_type": "markdown",
   "id": "383b0027",
   "metadata": {},
   "source": [
    "Q5. If a dictionary is stored in spam, what is the difference between the expressions 'cat' in spam and 'cat' in spam.keys()?"
   ]
  },
  {
   "cell_type": "raw",
   "id": "b4e5d267",
   "metadata": {},
   "source": [
    " There is no difference\n",
    "'cat' in spam: This expression checks whether there is a 'cat' KEY in the dictionary\n",
    "'cat' in spam.keys(): This will checks whether there is a key 'cat' in spam.\n",
    "Some sample code"
   ]
  },
  {
   "cell_type": "code",
   "execution_count": 6,
   "id": "3e392994",
   "metadata": {},
   "outputs": [
    {
     "name": "stdout",
     "output_type": "stream",
     "text": [
      "True True\n"
     ]
    }
   ],
   "source": [
    "my_domdict = {'k1': 23, 'k2': 'demo'}\n",
    "t = 'k1' in my_domdict\n",
    "u = 'k1' in my_domdict.keys()\n",
    "print(t, u)"
   ]
  },
  {
   "cell_type": "markdown",
   "id": "f9c6f406",
   "metadata": {},
   "source": [
    "Q6.If a dictionary is stored in spam, what is the difference between the expressions 'cat' in spam and 'cat' in spam.values()?"
   ]
  },
  {
   "cell_type": "raw",
   "id": "0e5ca1a4",
   "metadata": {},
   "source": [
    "There is a Difference:\n",
    "'cat' in spam: This expression checks whether there is a 'cat' KEY in the dictionary\n",
    "'cat' in spam.values(): This will checks whether there is a value 'cat' in spam.\n",
    "Some sample code  below"
   ]
  },
  {
   "cell_type": "code",
   "execution_count": 5,
   "id": "432caab8",
   "metadata": {},
   "outputs": [
    {
     "name": "stdout",
     "output_type": "stream",
     "text": [
      "True False\n"
     ]
    }
   ],
   "source": [
    "spam = {'cat': 123, 'k2': 2+3j}\n",
    "a = 'cat' in spam\n",
    "b = 'cat' in spam.values()\n",
    "print(a, b)"
   ]
  },
  {
   "cell_type": "markdown",
   "id": "76504816",
   "metadata": {},
   "source": [
    "Q7. What is a shortcut for the following code?\n",
    "if 'color' not in spam:\n",
    "spam['color'] = 'black'\n",
    "spam={'cat': 123, 'k2': (2+3j)}"
   ]
  },
  {
   "cell_type": "code",
   "execution_count": 7,
   "id": "5a9bc17c",
   "metadata": {},
   "outputs": [
    {
     "data": {
      "text/plain": [
       "{'cat': 123, 'k2': (2+3j)}"
      ]
     },
     "execution_count": 7,
     "metadata": {},
     "output_type": "execute_result"
    }
   ],
   "source": [
    "spam"
   ]
  },
  {
   "cell_type": "code",
   "execution_count": 8,
   "id": "65fe3088",
   "metadata": {},
   "outputs": [
    {
     "data": {
      "text/plain": [
       "'black'"
      ]
     },
     "execution_count": 8,
     "metadata": {},
     "output_type": "execute_result"
    }
   ],
   "source": [
    "# shortcut code \n",
    "spam.setdefault('color', 'black')"
   ]
  },
  {
   "cell_type": "code",
   "execution_count": 9,
   "id": "e6ed9f43",
   "metadata": {},
   "outputs": [
    {
     "data": {
      "text/plain": [
       "{'cat': 123, 'k2': (2+3j), 'color': 'black'}"
      ]
     },
     "execution_count": 9,
     "metadata": {},
     "output_type": "execute_result"
    }
   ],
   "source": [
    "spam"
   ]
  },
  {
   "cell_type": "markdown",
   "id": "e37402ff",
   "metadata": {},
   "source": [
    "Q8. How do you \"pretty print\" dictionary values using which module and function?"
   ]
  },
  {
   "cell_type": "code",
   "execution_count": 10,
   "id": "1a56890c",
   "metadata": {},
   "outputs": [
    {
     "name": "stdout",
     "output_type": "stream",
     "text": [
      "{'cat': 123, 'color': 'black', 'k2': (2+3j)}\n"
     ]
    }
   ],
   "source": [
    "#Sample code  By importing pprint and using pprint.pprint(dict_name)\n",
    "import pprint\n",
    "pprint.pprint(spam)"
   ]
  }
 ],
 "metadata": {
  "kernelspec": {
   "display_name": "Python 3 (ipykernel)",
   "language": "python",
   "name": "python3"
  },
  "language_info": {
   "codemirror_mode": {
    "name": "ipython",
    "version": 3
   },
   "file_extension": ".py",
   "mimetype": "text/x-python",
   "name": "python",
   "nbconvert_exporter": "python",
   "pygments_lexer": "ipython3",
   "version": "3.9.7"
  }
 },
 "nbformat": 4,
 "nbformat_minor": 5
}
