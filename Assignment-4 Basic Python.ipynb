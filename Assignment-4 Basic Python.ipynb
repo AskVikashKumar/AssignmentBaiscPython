{
 "cells": [
  {
   "cell_type": "markdown",
   "id": "745143a9",
   "metadata": {},
   "source": [
    "Q1. What exactly is []?"
   ]
  },
  {
   "cell_type": "raw",
   "id": "414fc92e",
   "metadata": {},
   "source": [
    "Lists in Python can be created by just placing the sequence inside the square brackets[].The empty list value, which is a list value that contains no items often comes as only []"
   ]
  },
  {
   "cell_type": "markdown",
   "id": "b88100ea",
   "metadata": {},
   "source": [
    "Q2. In a list of values stored in a variable called spam, how would you assign the value 'hello' as the third value? (Assume [2, 4, 6, 8, 10] are in spam.)"
   ]
  },
  {
   "cell_type": "code",
   "execution_count": 1,
   "id": "3f89cf34",
   "metadata": {},
   "outputs": [
    {
     "name": "stdout",
     "output_type": "stream",
     "text": [
      "Initial List: \n",
      "[2, 4, 6, 8, 10]\n",
      "\n",
      "List after performing Insert Operation: \n",
      "[2, 4, 6, 'hello', 8, 10]\n"
     ]
    }
   ],
   "source": [
    "# Python program to demonstrate addition of elements in a List\n",
    "# Creating a List\n",
    "spam = [2, 4, 6, 8, 10]\n",
    "print(\"Initial List: \")\n",
    "print(spam)\n",
    "# Addition of Element at specific Position (using Insert Method)\n",
    "spam.insert(3, 'hello')\n",
    "print(\"\\nList after performing Insert Operation: \")\n",
    "print(spam)"
   ]
  },
  {
   "cell_type": "markdown",
   "id": "7ae25c27",
   "metadata": {},
   "source": [
    "Q3.What is the value of spam[int(int('3' * 2) / 11)]?"
   ]
  },
  {
   "cell_type": "code",
   "execution_count": 1,
   "id": "44d661d6",
   "metadata": {},
   "outputs": [
    {
     "name": "stdout",
     "output_type": "stream",
     "text": [
      "[3]\n"
     ]
    }
   ],
   "source": [
    "spam =['a', 'b', 'c', 'd']\n",
    "spam = [int(int('3' * 2)/11 )]\n",
    "print(spam)"
   ]
  },
  {
   "cell_type": "markdown",
   "id": "04d94468",
   "metadata": {},
   "source": [
    "Q4. What is the value of spam[-1]? spam includes the list ['a', 'b', 'c', 'd']"
   ]
  },
  {
   "cell_type": "code",
   "execution_count": 3,
   "id": "719803dd",
   "metadata": {},
   "outputs": [
    {
     "name": "stdout",
     "output_type": "stream",
     "text": [
      "d\n"
     ]
    }
   ],
   "source": [
    "spam =['a', 'b', 'c', 'd'] \n",
    "print(spam[-1]) "
   ]
  },
  {
   "cell_type": "markdown",
   "id": "2f5902d6",
   "metadata": {},
   "source": [
    "Q5. What is the value of spam[:2]?"
   ]
  },
  {
   "cell_type": "code",
   "execution_count": 4,
   "id": "ec861ee1",
   "metadata": {},
   "outputs": [
    {
     "name": "stdout",
     "output_type": "stream",
     "text": [
      "['a', 'b']\n"
     ]
    }
   ],
   "source": [
    "spam =['a', 'b', 'c', 'd'] \n",
    "print(spam[:2]) "
   ]
  },
  {
   "cell_type": "markdown",
   "id": "88c01262",
   "metadata": {},
   "source": [
    "Q6. What is the value of bacon.index('cat')? bacon has the list [3.14, 'cat,' 11, 'cat,' True]"
   ]
  },
  {
   "cell_type": "code",
   "execution_count": 5,
   "id": "ff90c8f6",
   "metadata": {},
   "outputs": [
    {
     "name": "stdout",
     "output_type": "stream",
     "text": [
      "1\n"
     ]
    }
   ],
   "source": [
    "bacon = [3.14, 'cat' ,11, 'cat', True] \n",
    "print(bacon.index('cat'))"
   ]
  },
  {
   "cell_type": "markdown",
   "id": "7370fb6c",
   "metadata": {},
   "source": [
    "Q7. How does bacon.append(99) change the look of the list value in bacon?"
   ]
  },
  {
   "cell_type": "code",
   "execution_count": 12,
   "id": "4178e7c0",
   "metadata": {},
   "outputs": [
    {
     "data": {
      "text/plain": [
       "[3.14, 'cat', 11, 'cat', True, 99]"
      ]
     },
     "execution_count": 12,
     "metadata": {},
     "output_type": "execute_result"
    }
   ],
   "source": [
    "bacon = [3.14, 'cat' ,11, 'cat', True] \n",
    "bacon.append(99)\n",
    "bacon"
   ]
  },
  {
   "cell_type": "markdown",
   "id": "a52e5c91",
   "metadata": {},
   "source": [
    "Q8. How does bacon.remove('cat') change the look of the list in bacon?"
   ]
  },
  {
   "cell_type": "code",
   "execution_count": 13,
   "id": "62e88937",
   "metadata": {},
   "outputs": [
    {
     "data": {
      "text/plain": [
       "[3.14, 11, 'cat', True, 99]"
      ]
     },
     "execution_count": 13,
     "metadata": {},
     "output_type": "execute_result"
    }
   ],
   "source": [
    "bacon = [3.14, 'cat' ,11, 'cat', True,99] \n",
    "bacon.remove('cat')\n",
    "bacon"
   ]
  },
  {
   "cell_type": "markdown",
   "id": "234479fc",
   "metadata": {},
   "source": [
    "Q9. What are the list concatenation and list replication operators?"
   ]
  },
  {
   "cell_type": "raw",
   "id": "8d52f741",
   "metadata": {},
   "source": [
    "The operator for list concatenation is +, while the operator * can be used with list and integer value to replicate the list Below is some sample code "
   ]
  },
  {
   "cell_type": "code",
   "execution_count": 7,
   "id": "0d181661",
   "metadata": {},
   "outputs": [
    {
     "name": "stdout",
     "output_type": "stream",
     "text": [
      "[1, 2, 4, 'a', 'b', 'c']\n"
     ]
    }
   ],
   "source": [
    "l = [1,2,4] + ['a','b','c']\n",
    "print(l)"
   ]
  },
  {
   "cell_type": "code",
   "execution_count": 8,
   "id": "703cd995",
   "metadata": {},
   "outputs": [
    {
     "name": "stdout",
     "output_type": "stream",
     "text": [
      "[1, 2, 4, 1, 2, 4, 1, 2, 4]\n"
     ]
    }
   ],
   "source": [
    "l = [1,2,4] * 3\n",
    "print(l)"
   ]
  },
  {
   "cell_type": "markdown",
   "id": "3cc8936f",
   "metadata": {},
   "source": [
    "Q10. What is difference between the list methods append() and insert()?"
   ]
  },
  {
   "cell_type": "raw",
   "id": "6c1e2e39",
   "metadata": {},
   "source": [
    "Append adds an element at the end of the list. The argument passed in the append function is added as a single element at end of the list and the length of the list is increased by 1.\n",
    "Insert method can be used to insert a value at any desired position. It takes two arguments-element and the index at which the element has to be inserted.\n",
    "Some Sample code of above append and insert"
   ]
  },
  {
   "cell_type": "code",
   "execution_count": 14,
   "id": "3668bead",
   "metadata": {},
   "outputs": [
    {
     "name": "stdout",
     "output_type": "stream",
     "text": [
      "['geeks', 'vs', 'nerds']\n"
     ]
    }
   ],
   "source": [
    "# python program to demonstrate working of append function\n",
    "# assign list\n",
    "l = ['geeks','vs']\n",
    "# use method\n",
    "l.append('nerds')\n",
    "# display list\n",
    "print(l)"
   ]
  },
  {
   "cell_type": "code",
   "execution_count": 15,
   "id": "6a94cd77",
   "metadata": {},
   "outputs": [
    {
     "name": "stdout",
     "output_type": "stream",
     "text": [
      "['material', 'is', 'solid']\n"
     ]
    }
   ],
   "source": [
    "# python program to demonstrate working of insert function\n",
    "# assign list\n",
    "l = ['material', 'solid']\n",
    "# use method\n",
    "l.insert(1, 'is')\n",
    "# display list\n",
    "print(l)"
   ]
  },
  {
   "cell_type": "markdown",
   "id": "b76ad920",
   "metadata": {},
   "source": [
    "Q11. What are the two methods for removing items from a list?"
   ]
  },
  {
   "cell_type": "raw",
   "id": "67aab73e",
   "metadata": {},
   "source": [
    " The two methods for removing items from a list are remove and pop\n",
    " Sample code below"
   ]
  },
  {
   "cell_type": "code",
   "execution_count": 17,
   "id": "fb9fc5c0",
   "metadata": {},
   "outputs": [
    {
     "name": "stdout",
     "output_type": "stream",
     "text": [
      "Initial List: \n",
      "[1, 2, 3, 4, 5, 6, 7, 8, 9, 10, 11, 12]\n",
      "\n",
      "List after Removal of  element: \n",
      "[1, 2, 3, 4, 6, 7, 8, 9, 10, 11, 12]\n"
     ]
    }
   ],
   "source": [
    "# Python program to demonstrate removal of elements in a List using remove\n",
    "sample_list = [1, 2, 3, 4, 5, 6,7, 8, 9, 10, 11, 12]\n",
    "print(\"Initial List: \")\n",
    "print(sample_list)\n",
    "# Removing elements from List\n",
    "sample_list.remove(5)\n",
    "print(\"\\nList after Removal of  element: \")\n",
    "print(sample_list)"
   ]
  },
  {
   "cell_type": "code",
   "execution_count": 18,
   "id": "c7d541a2",
   "metadata": {},
   "outputs": [
    {
     "name": "stdout",
     "output_type": "stream",
     "text": [
      "Initial List: \n",
      "[1, 2, 3, 9, 10, 11, 12]\n",
      "\n",
      "List after pop of  element: \n",
      "[1, 2, 3, 9, 10, 11]\n"
     ]
    }
   ],
   "source": [
    "# Python program to demonstrate removal of elements in a List using pop\n",
    "sample_list1 = [1, 2, 3, 9, 10, 11, 12]\n",
    "print(\"Initial List: \")\n",
    "print(sample_list1)\n",
    "# Removing elements from List\n",
    "sample_list1.pop()\n",
    "print(\"\\nList after pop of  element: \")\n",
    "print(sample_list1)"
   ]
  },
  {
   "cell_type": "markdown",
   "id": "a530d126",
   "metadata": {},
   "source": [
    "Q12. Describe how list values and string values are identical."
   ]
  },
  {
   "cell_type": "raw",
   "id": "2d5d263d",
   "metadata": {},
   "source": [
    "We can say strings and lists are actually similar , consider a string to be a list of single text characters or string are ordered collection of characters while list can have any type item.Certain operations can be perform with both list and string so operations are\n",
    "Slicing\n",
    "Indexing\n",
    "for loop with len"
   ]
  },
  {
   "cell_type": "markdown",
   "id": "2b125729",
   "metadata": {},
   "source": [
    "Q13. What's the difference between tuples and lists?"
   ]
  },
  {
   "cell_type": "raw",
   "id": "6477e18e",
   "metadata": {},
   "source": [
    "List is just like the array. It is mutable. list can made using [] e.g/ Y =[1,2,4]. Implications of Iteration is time cosuming, and  consume more memory\n",
    "Tuples is also a squence data type that can contain elements of different data types. It is immutable tuple can made using () e.g/ Y =(\"Litle\",\"mouseinhood\",\"go\",\"withduck\")\n",
    "The implication of iteration compartively faster ,and consume less  as  compare to list"
   ]
  },
  {
   "cell_type": "markdown",
   "id": "27458431",
   "metadata": {},
   "source": [
    "Q14. How do you type a tuple value that only contains the integer 42?"
   ]
  },
  {
   "cell_type": "code",
   "execution_count": 9,
   "id": "2441567c",
   "metadata": {},
   "outputs": [],
   "source": [
    "eggs =('42')"
   ]
  },
  {
   "cell_type": "markdown",
   "id": "495f0197",
   "metadata": {},
   "source": [
    "Q15. How do you get a list value's tuple form? How do you get a tuple value's list form?"
   ]
  },
  {
   "cell_type": "raw",
   "id": "fae25707",
   "metadata": {},
   "source": [
    "By using tuple() and list() functions respectively we can process from list to tuple  and tuple to list below some sample code"
   ]
  },
  {
   "cell_type": "code",
   "execution_count": 1,
   "id": "34f6cf2c",
   "metadata": {},
   "outputs": [
    {
     "data": {
      "text/plain": [
       "('cat', 'dog', 5)"
      ]
     },
     "execution_count": 1,
     "metadata": {},
     "output_type": "execute_result"
    }
   ],
   "source": [
    "tuple(['cat', 'dog', 5])"
   ]
  },
  {
   "cell_type": "code",
   "execution_count": 2,
   "id": "edbced9b",
   "metadata": {},
   "outputs": [
    {
     "data": {
      "text/plain": [
       "['cat', 'dog', 5]"
      ]
     },
     "execution_count": 2,
     "metadata": {},
     "output_type": "execute_result"
    }
   ],
   "source": [
    "list(('cat', 'dog', 5))"
   ]
  },
  {
   "cell_type": "code",
   "execution_count": 3,
   "id": "c779490a",
   "metadata": {},
   "outputs": [
    {
     "data": {
      "text/plain": [
       "['h', 'e', 'l', 'l', 'o']"
      ]
     },
     "execution_count": 3,
     "metadata": {},
     "output_type": "execute_result"
    }
   ],
   "source": [
    "list('hello')"
   ]
  },
  {
   "cell_type": "markdown",
   "id": "7f85a485",
   "metadata": {},
   "source": [
    "Q16 .Variables that \"contain\" list values are not necessarily lists themselves. Instead, what do they contain?"
   ]
  },
  {
   "cell_type": "raw",
   "id": "54dc511e",
   "metadata": {},
   "source": [
    "They contain refernce to list values."
   ]
  },
  {
   "cell_type": "markdown",
   "id": "ca291283",
   "metadata": {},
   "source": [
    "Q17. How do you distinguish between copy.copy() and copy.deepcopy()?"
   ]
  },
  {
   "cell_type": "raw",
   "id": "bb7e4922",
   "metadata": {},
   "source": [
    "The copy.copy() function will do a shallow copy of a list, while the copy.deepcopy() function will do a deep copy of a list. That is, only copy.deepcopy() will duplicate any lists inside the list.Below some sample code"
   ]
  },
  {
   "cell_type": "code",
   "execution_count": 4,
   "id": "16cae58e",
   "metadata": {},
   "outputs": [],
   "source": [
    " import copy\n",
    "spam = ['A', 'B', 'C', 'D']\n",
    "cheese = copy.deepcopy(spam)\n",
    "cheese[1] = 42"
   ]
  },
  {
   "cell_type": "code",
   "execution_count": 5,
   "id": "966b5805",
   "metadata": {},
   "outputs": [
    {
     "data": {
      "text/plain": [
       "['A', 'B', 'C', 'D']"
      ]
     },
     "execution_count": 5,
     "metadata": {},
     "output_type": "execute_result"
    }
   ],
   "source": [
    "spam"
   ]
  },
  {
   "cell_type": "code",
   "execution_count": 6,
   "id": "6393e71d",
   "metadata": {},
   "outputs": [
    {
     "data": {
      "text/plain": [
       "['A', 42, 'C', 'D']"
      ]
     },
     "execution_count": 6,
     "metadata": {},
     "output_type": "execute_result"
    }
   ],
   "source": [
    "cheese"
   ]
  }
 ],
 "metadata": {
  "kernelspec": {
   "display_name": "Python 3 (ipykernel)",
   "language": "python",
   "name": "python3"
  },
  "language_info": {
   "codemirror_mode": {
    "name": "ipython",
    "version": 3
   },
   "file_extension": ".py",
   "mimetype": "text/x-python",
   "name": "python",
   "nbconvert_exporter": "python",
   "pygments_lexer": "ipython3",
   "version": "3.9.7"
  }
 },
 "nbformat": 4,
 "nbformat_minor": 5
}
