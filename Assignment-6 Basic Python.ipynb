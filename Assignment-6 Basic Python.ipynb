{
 "cells": [
  {
   "cell_type": "markdown",
   "id": "3e4e0e18",
   "metadata": {},
   "source": [
    "Q1.What are escape characters, and how do you use them?"
   ]
  },
  {
   "cell_type": "raw",
   "id": "2f4b2cc0",
   "metadata": {},
   "source": [
    "Escape characters represent characters in string values that would otherwise be difficult or impossible to type into code. It is used in representing certain whitespace characters: \"\\t\" is a tab, \"\\n\" is a newline, and \"\\r\" is a carriage return. Sample Code Below Usage of escape character"
   ]
  },
  {
   "cell_type": "code",
   "execution_count": 2,
   "id": "7f2d8137",
   "metadata": {},
   "outputs": [
    {
     "name": "stdout",
     "output_type": "stream",
     "text": [
      "apple\torange\n"
     ]
    }
   ],
   "source": [
    "print ('apple\\torange')"
   ]
  },
  {
   "cell_type": "markdown",
   "id": "a38cfe67",
   "metadata": {},
   "source": [
    "Q2.What do the escape characters n and t stand for?"
   ]
  },
  {
   "cell_type": "raw",
   "id": "4d0ab8d3",
   "metadata": {},
   "source": [
    "The escape characters n and t stand for \"\\t\" is a tab, \"\\n\" is a newline Sample Code Below"
   ]
  },
  {
   "cell_type": "code",
   "execution_count": 4,
   "id": "a95ba1e8",
   "metadata": {},
   "outputs": [
    {
     "name": "stdout",
     "output_type": "stream",
     "text": [
      "apple\torange\n",
      "apple\n",
      "orange\n"
     ]
    }
   ],
   "source": [
    "# Tab \\t\n",
    "print ('apple\\torange')\n",
    "# Newline \\n\n",
    "print  ('apple\\norange')"
   ]
  },
  {
   "cell_type": "markdown",
   "id": "421eb610",
   "metadata": {},
   "source": [
    "Q3.What is the way to include backslash characters in a string?"
   ]
  },
  {
   "cell_type": "code",
   "execution_count": 9,
   "id": "76c20ace",
   "metadata": {},
   "outputs": [
    {
     "name": "stdout",
     "output_type": "stream",
     "text": [
      "\"\\\" is the backslash\n",
      "abc\\123\n"
     ]
    }
   ],
   "source": [
    "#The \\\\ escape character will represent a backslash character.\n",
    "#Sample Code to  add backslash character in a string\n",
    "print ('\"\\\\\" is the backslash')\n",
    "raw_text = r\"abc\\123\"\n",
    "print(raw_text)"
   ]
  },
  {
   "cell_type": "markdown",
   "id": "7542e2ec",
   "metadata": {},
   "source": [
    "Q4.The string \"Howl's Moving Castle\" is a correct value. Why isn't the single quote character in the word Howl's not escaped a problem?"
   ]
  },
  {
   "cell_type": "raw",
   "id": "236f7517",
   "metadata": {},
   "source": [
    "The single quote in Howl's is fine because we have used double quotes to mark the beginning and end of the string."
   ]
  },
  {
   "cell_type": "markdown",
   "id": "68a2dedd",
   "metadata": {},
   "source": [
    "Q5.How do you write a string of newlines if you don't want to use the n character?"
   ]
  },
  {
   "cell_type": "code",
   "execution_count": 13,
   "id": "6a2f48f4",
   "metadata": {},
   "outputs": [
    {
     "name": "stdout",
     "output_type": "stream",
     "text": [
      "Dear Alice,\n",
      "Eve's cat has been arrested for catnapping, cat burglary, and extortion.\n",
      "Sincerely,\n",
      "Bob\n"
     ]
    }
   ],
   "source": [
    "# Sample Code \n",
    "print('''Dear Alice,\n",
    "Eve's cat has been arrested for catnapping, cat burglary, and extortion.\n",
    "Sincerely,\n",
    "Bob''')"
   ]
  },
  {
   "cell_type": "markdown",
   "id": "fbcad9cd",
   "metadata": {},
   "source": [
    "Q6. What are the values of the given expressions?\n",
    "'Hello, world!'[1]\n",
    "'Hello, world!'[0:5]\n",
    "'Hello, world!'[:5]\n",
    "'Hello, world!'[3:]"
   ]
  },
  {
   "cell_type": "raw",
   "id": "9a828c82",
   "metadata": {},
   "source": [
    "The expressions evaluate to the following:\n",
    "'Hello, world!'[1]  \n",
    "# e   Traversal and show what is at position 1 i.e. e\n",
    "'Hello, world!'[0:5] \n",
    "# Hello  Traversal and show what is available from start Oth place to upto 4th place  skip 5th place\n",
    "'Hello, world!'[:5]  \n",
    "# Hello  Traversal and show what is available from start Oth place  to upto 4th place  skip 5th place\n",
    "'Hello, world!'[3:] \n",
    "# lo , world! Traversal and show what is available from start 3rd place to upto last position "
   ]
  },
  {
   "cell_type": "markdown",
   "id": "fff3c03a",
   "metadata": {},
   "source": [
    "Q7. What are the values of the following expressions?\n",
    "'Hello'.upper()\n",
    "'Hello'.upper().isupper()\n",
    "'Hello'.upper().lower()"
   ]
  },
  {
   "cell_type": "raw",
   "id": "1f33b907",
   "metadata": {},
   "source": [
    "The expressions evaluate to the following:\n",
    "'Hello'.upper() # This will uppercase all characters\n",
    "'HELLO'\n",
    "'Hello'.upper().isupper() # This will uppercase all characters then check if all are uppercase then true\n",
    "True\n",
    "'Hello'.upper().lower() # This will uppercase all characters then lowercase and print it\n",
    "'hello'"
   ]
  },
  {
   "cell_type": "markdown",
   "id": "95e4f5e0",
   "metadata": {},
   "source": [
    "Q8. What are the values of the following expressions?\n",
    "'Remember, remember, the fifth of July.'.split()\n",
    "'-'.join('There can only one.'.split())\n"
   ]
  },
  {
   "cell_type": "code",
   "execution_count": 16,
   "id": "1bf625c9",
   "metadata": {},
   "outputs": [
    {
     "data": {
      "text/plain": [
       "['Remember,', 'remember,', 'the', 'fifth', 'of', 'July.']"
      ]
     },
     "execution_count": 16,
     "metadata": {},
     "output_type": "execute_result"
    }
   ],
   "source": [
    "# The expressions evaluate to the following\n",
    "#['Remember,', 'remember,', 'the', 'fifth', 'of', 'November.']\n",
    "#'There-can-be-only-one.\n",
    "'Remember, remember, the fifth of July.'.split()"
   ]
  },
  {
   "cell_type": "code",
   "execution_count": 17,
   "id": "6d45ca4b",
   "metadata": {},
   "outputs": [
    {
     "data": {
      "text/plain": [
       "'There-can-be-only-one.'"
      ]
     },
     "execution_count": 17,
     "metadata": {},
     "output_type": "execute_result"
    }
   ],
   "source": [
    "'-'.join('There can be only one.'.split())"
   ]
  },
  {
   "cell_type": "markdown",
   "id": "778e27a1",
   "metadata": {},
   "source": [
    "Q9. What are the methods for right-justifying, left-justifying, and centering a string?"
   ]
  },
  {
   "cell_type": "raw",
   "id": "f78610c4",
   "metadata": {},
   "source": [
    "We can use  rjust(), ljust(), and center() string methods, respectively"
   ]
  },
  {
   "cell_type": "code",
   "execution_count": 18,
   "id": "1cc0fe97",
   "metadata": {},
   "outputs": [
    {
     "name": "stdout",
     "output_type": "stream",
     "text": [
      "***nerds\n"
     ]
    }
   ],
   "source": [
    "# example string rjust() fillchar is optional if not in use space is used by default\n",
    "string = 'nerds'\n",
    "length = 8\n",
    "fillchar = '*'\n",
    "print(string.rjust(length, fillchar))"
   ]
  },
  {
   "cell_type": "code",
   "execution_count": 20,
   "id": "e272f0e7",
   "metadata": {},
   "outputs": [
    {
     "name": "stdout",
     "output_type": "stream",
     "text": [
      "nerds$$$\n"
     ]
    }
   ],
   "source": [
    "# example string ljust()\n",
    "string = 'nerds'\n",
    "length = 8\n",
    "fillchar = '$'\n",
    "# If no fill character is provided, space is used as fill character.\n",
    "print(string.ljust(length, fillchar))"
   ]
  },
  {
   "cell_type": "code",
   "execution_count": 21,
   "id": "88ec73ba",
   "metadata": {},
   "outputs": [
    {
     "name": "stdout",
     "output_type": "stream",
     "text": [
      "#############I like to fly##############\n"
     ]
    }
   ],
   "source": [
    "# example string center() \n",
    "cstr = \"I like to fly\"\n",
    "print (cstr.center(40, '#'))"
   ]
  },
  {
   "cell_type": "markdown",
   "id": "b9c29742",
   "metadata": {},
   "source": [
    "Q10. What is the best way to remove whitespace characters from the start or end?"
   ]
  },
  {
   "cell_type": "raw",
   "id": "f354fb24",
   "metadata": {},
   "source": [
    "We can use lstrip() and rstrip() methods remove whitespace from the left and right ends of a string, respectively."
   ]
  },
  {
   "cell_type": "code",
   "execution_count": 23,
   "id": "d9f04347",
   "metadata": {},
   "outputs": [
    {
     "data": {
      "text/plain": [
       "'Hello World     '"
      ]
     },
     "execution_count": 23,
     "metadata": {},
     "output_type": "execute_result"
    }
   ],
   "source": [
    "# example lstrip()\n",
    "spam = '    Hello World     '\n",
    "spam.lstrip()"
   ]
  },
  {
   "cell_type": "code",
   "execution_count": 24,
   "id": "4bb8b1df",
   "metadata": {},
   "outputs": [
    {
     "data": {
      "text/plain": [
       "'    Hello World'"
      ]
     },
     "execution_count": 24,
     "metadata": {},
     "output_type": "execute_result"
    }
   ],
   "source": [
    "# example rstrip()\n",
    "spam.rstrip()"
   ]
  }
 ],
 "metadata": {
  "kernelspec": {
   "display_name": "Python 3 (ipykernel)",
   "language": "python",
   "name": "python3"
  },
  "language_info": {
   "codemirror_mode": {
    "name": "ipython",
    "version": 3
   },
   "file_extension": ".py",
   "mimetype": "text/x-python",
   "name": "python",
   "nbconvert_exporter": "python",
   "pygments_lexer": "ipython3",
   "version": "3.9.7"
  }
 },
 "nbformat": 4,
 "nbformat_minor": 5
}
