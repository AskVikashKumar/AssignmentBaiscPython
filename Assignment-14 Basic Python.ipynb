{
 "cells": [
  {
   "cell_type": "markdown",
   "id": "5fa65215",
   "metadata": {},
   "source": [
    "##### Q1. What does RGBA stand for?"
   ]
  },
  {
   "cell_type": "markdown",
   "id": "b73537da",
   "metadata": {},
   "source": [
    "Ans.RGBA stands for red, green, blue, and alpha (opacity) values for a color. An RGBA value is a tuple of 4 integers, each ranging from 0 to 255. The four integers correspond to the amount of red, green, blue, and alpha (transparency) in the color "
   ]
  },
  {
   "cell_type": "markdown",
   "id": "fb122b3f",
   "metadata": {},
   "source": [
    "##### Q2. From the Pillow module, how do you get the RGBA value of any images?"
   ]
  },
  {
   "cell_type": "code",
   "execution_count": 1,
   "id": "96377e73",
   "metadata": {},
   "outputs": [
    {
     "data": {
      "text/plain": [
       "(255, 0, 0, 255)"
      ]
     },
     "execution_count": 1,
     "metadata": {},
     "output_type": "execute_result"
    }
   ],
   "source": [
    "from PIL import ImageColor\n",
    "ImageColor.getcolor('green', 'RGBA')\n",
    "ImageColor.getcolor('red', 'RGBA')"
   ]
  },
  {
   "cell_type": "markdown",
   "id": "41e1491f",
   "metadata": {},
   "source": [
    "##### Q3. What is a box tuple, and how does it work?"
   ]
  },
  {
   "cell_type": "markdown",
   "id": "a19c1983",
   "metadata": {},
   "source": [
    "Ans: A box tuple is a tuple value of four integers: the left-edge x-coordinate, the top-edge y-coordinate,the width, and the height, respectively."
   ]
  },
  {
   "cell_type": "markdown",
   "id": "4de99d0e",
   "metadata": {},
   "source": [
    "##### Q4. Use your image and load in notebook then, How can you find out the width and height of an Image object?"
   ]
  },
  {
   "cell_type": "code",
   "execution_count": 2,
   "id": "824ef80d",
   "metadata": {},
   "outputs": [
    {
     "data": {
      "text/plain": [
       "(1366, 768)"
      ]
     },
     "execution_count": 2,
     "metadata": {},
     "output_type": "execute_result"
    }
   ],
   "source": [
    "#Example Program\n",
    "from PIL import Image\n",
    "myImg = Image.open('3w.jpg')\n",
    "w,h = myImg.size\n",
    "w,h"
   ]
  },
  {
   "cell_type": "markdown",
   "id": "0565b888",
   "metadata": {},
   "source": [
    "##### Q5. What method would you call to get Image object for a 100×100 image, excluding the lower-left quarter of it?"
   ]
  },
  {
   "cell_type": "code",
   "execution_count": 6,
   "id": "e32a04dd",
   "metadata": {},
   "outputs": [],
   "source": [
    "# ImageObject.crop((0, 50, 50, 50))\n",
    "# Sample\n",
    "from PIL import Image\n",
    "myImg2 = Image.open('3w.jpg')\n",
    "new_img = myImg2.crop((0,50,50,50))"
   ]
  },
  {
   "cell_type": "markdown",
   "id": "33a0f0bb",
   "metadata": {},
   "source": [
    "##### Q6. After making changes to an Image object, how could you save it as an image file?"
   ]
  },
  {
   "cell_type": "markdown",
   "id": "7803b025",
   "metadata": {},
   "source": [
    "Ans. By Calling the imageObj.save('new_filename.png') method of the Image object."
   ]
  },
  {
   "cell_type": "markdown",
   "id": "9f3cf81b",
   "metadata": {},
   "source": [
    "##### Q7. What module contains Pillow’s shape-drawing code?"
   ]
  },
  {
   "cell_type": "markdown",
   "id": "d1daa571",
   "metadata": {},
   "source": [
    "Ans:The ImageDraw module contains code to draw on images"
   ]
  },
  {
   "cell_type": "markdown",
   "id": "cc7a96a9",
   "metadata": {},
   "source": [
    "##### Q8.Image objects do not have drawing methods. What kind of object does? How do you get this kind of object?"
   ]
  },
  {
   "cell_type": "markdown",
   "id": "bb4e7c90",
   "metadata": {},
   "source": [
    "Ans. ImageDraw objects have shape-drawing methods such as point(), line(), or rectangle(). They are returned by passing the Image object to the ImageDraw.Draw() function"
   ]
  }
 ],
 "metadata": {
  "kernelspec": {
   "display_name": "Python 3 (ipykernel)",
   "language": "python",
   "name": "python3"
  },
  "language_info": {
   "codemirror_mode": {
    "name": "ipython",
    "version": 3
   },
   "file_extension": ".py",
   "mimetype": "text/x-python",
   "name": "python",
   "nbconvert_exporter": "python",
   "pygments_lexer": "ipython3",
   "version": "3.9.7"
  }
 },
 "nbformat": 4,
 "nbformat_minor": 5
}
